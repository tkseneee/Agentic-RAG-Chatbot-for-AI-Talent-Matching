{
 "cells": [
  {
   "cell_type": "code",
   "execution_count": 6,
   "id": "42319fb4-51d5-43cb-bbdf-7bb96cf9c93e",
   "metadata": {},
   "outputs": [],
   "source": [
    "from pymongo import MongoClient\n",
    "from langchain.embeddings import OpenAIEmbeddings\n",
    "from sklearn.metrics.pairwise import cosine_similarity\n",
    "import numpy as np\n",
    "import os\n",
    "\n",
    "# Set your OpenAI API Key\n",
    "os.environ[\"OPENAI_API_KEY\"] = \"your_key\"\n",
    "\n",
    "def fetch_best_matching_candidate(query: str, mongo_uri=\"mongodb://localhost:27017/\", db_name=\"documentDB\", collection_name=\"extracted_info\", top_k=1):\n",
    "    \"\"\"\n",
    "    Given a query, fetch the best matching candidate from MongoDB using cosine similarity on embeddings.\n",
    "    \n",
    "    Args:\n",
    "        query (str): User query like \"candidates with YOLO skills from Chennai\"\n",
    "        mongo_uri (str): MongoDB connection string\n",
    "        db_name (str): MongoDB database name\n",
    "        collection_name (str): Collection where embeddings are stored\n",
    "        top_k (int): Number of top matches to return\n",
    "\n",
    "    Returns:\n",
    "        list: Top k matching documents (with similarity score)\n",
    "    \"\"\"\n",
    "    # Connect to MongoDB\n",
    "    client = MongoClient(mongo_uri)\n",
    "    db = client[db_name]\n",
    "    collection = db[collection_name]\n",
    "\n",
    "    # Load documents with embeddings\n",
    "    docs = list(collection.find({\"city_skill_embedding\": {\"$exists\": True}}))\n",
    "    if not docs:\n",
    "        print(\"No documents with city_skill_embedding found.\")\n",
    "        return []\n",
    "\n",
    "    # Generate embedding for user query\n",
    "    embedding_model = OpenAIEmbeddings()\n",
    "    query_embedding = embedding_model.embed_query(query)\n",
    "\n",
    "    # Calculate cosine similarity between query and all city+skill embeddings\n",
    "    similarities = []\n",
    "    for doc in docs:\n",
    "        score = cosine_similarity([query_embedding], [doc[\"city_skill_embedding\"]])[0][0]\n",
    "        similarities.append((score, doc))\n",
    "\n",
    "    # Sort by similarity score\n",
    "    similarities.sort(reverse=True, key=lambda x: x[0])\n",
    "\n",
    "    # Return top-k results\n",
    "    top_matches = []\n",
    "    for score, doc in similarities[:top_k]:\n",
    "        doc_with_score = {\n",
    "            \"name\": doc.get(\"name\"),\n",
    "            \"city\": doc.get(\"city\"),\n",
    "            \"skills\": doc.get(\"skills\"),\n",
    "            \"email\": doc.get(\"email\"),\n",
    "            \"phone\": doc.get(\"phone\"),\n",
    "            \"score\": round(score, 4),\n",
    "            \"filename\": doc.get(\"filename\")\n",
    "        }\n",
    "        top_matches.append(doc_with_score)\n",
    "\n",
    "    return top_matches\n",
    "\n",
    "def fetch_candidate_resume(filename: str, mongo_uri=\"mongodb://localhost:27017/\", db_name=\"documentDB\", collection_name=\"extracted_info\"):\n",
    "    \"\"\"\n",
    "    Fetch the full resume content (raw_text) of a candidate given the filename.\n",
    "\n",
    "    Args:\n",
    "        filename (str): PDF filename of the candidate (e.g., \"Candidate_Summary_Arjun_Mehta.pdf\")\n",
    "        mongo_uri (str): MongoDB connection string\n",
    "        db_name (str): MongoDB database name\n",
    "        collection_name (str): Collection name\n",
    "\n",
    "    Returns:\n",
    "        str: The full resume text (raw_text)\n",
    "    \"\"\"\n",
    "    # Connect to MongoDB\n",
    "    client = MongoClient(mongo_uri)\n",
    "    db = client[db_name]\n",
    "    collection = db[collection_name]\n",
    "\n",
    "    doc = collection.find_one({\"filename\": filename})\n",
    "\n",
    "    if doc and \"raw_text\" in doc:\n",
    "        return doc[\"raw_text\"]\n",
    "    elif doc and \"content\" in doc:\n",
    "        return doc[\"content\"]\n",
    "    else:\n",
    "        return \"Resume content not found.\"\n"
   ]
  },
  {
   "cell_type": "code",
   "execution_count": 5,
   "id": "3f32a438-3519-4032-8e3c-384d681dc159",
   "metadata": {},
   "outputs": [
    {
     "name": "stdout",
     "output_type": "stream",
     "text": [
      "{'name': 'Dr. T.K. Senthil Kumar', 'city': 'Chennai', 'skills': 'Artificial Intelligence, Machine Learning, Computer Vision, Deep Learning, Generative AI, MLOps', 'email': 'contact@gradascentglobal.com', 'phone': '9444700278', 'score': np.float64(0.8221), 'filename': 'Candidate_Summary_Dr_T_K_Senthil_Kumar.pdf'}\n"
     ]
    }
   ],
   "source": [
    "results = fetch_best_matching_candidate(\"get me the candidate with YOLO and OpenCV experience from Chennai\")\n",
    "for result in results:\n",
    "    print(result)"
   ]
  },
  {
   "cell_type": "code",
   "execution_count": 9,
   "id": "cf668194-4ee7-4d7b-a087-07b879dd9515",
   "metadata": {},
   "outputs": [
    {
     "name": "stdout",
     "output_type": "stream",
     "text": [
      "{'name': 'Dr. T.K. Senthil Kumar', 'city': 'Chennai', 'skills': 'Artificial Intelligence, Machine Learning, Computer Vision, Deep Learning, Generative AI, MLOps', 'email': 'contact@gradascentglobal.com', 'phone': '9444700278', 'score': np.float64(0.8221), 'filename': 'Candidate_Summary_Dr_T_K_Senthil_Kumar.pdf'}\n",
      "\n",
      "Full Resume of Dr. T.K. Senthil Kumar:\n",
      "\n",
      "Dr. T.K. Senthil Kumar is an accomplished AI educator and data science expert based in Chennai,\n",
      "India, with over 16 years of rich experience spanning both academia and industry. He is currently\n",
      "working as a Subject Matter Expert at L&T EduTech, where he plays a key role in developing\n",
      "curriculum and delivering hands-on sessions in Artificial Intelligence, Machine Learning, Computer\n",
      "Vision, Deep Learning, Generative AI, and MLOps. Prior to this, he served as a Data Scientist at\n",
      "NYBL, Dubai, specializing in computer vision model development for industrial applications. Dr.\n",
      "Senthil Kumar has also worked with leading EduTech firms like Great Learning and Manipal Global\n",
      "Education, mentoring industry professionals and academic learners alike. With a strong publication\n",
      "record, curriculum design expertise, and a passion for real-world AI deployment, he continues to\n",
      "bridge the gap between education and emerging technology. He is the co-founder of Grad Ascent\n",
      "Technologies, a startup focused on AI\n"
     ]
    }
   ],
   "source": [
    "# Step 1: Get best matching candidate\n",
    "results = fetch_best_matching_candidate(\"candidates with YOLO skills from Chennai\", top_k=1)\n",
    "print(result)\n",
    "\n",
    "# Step 2: Fetch resume text\n",
    "if results:\n",
    "    candidate = results[0]\n",
    "    full_resume = fetch_candidate_resume(candidate[\"filename\"])\n",
    "    print(f\"\\nFull Resume of {candidate['name']}:\\n\")\n",
    "    print(full_resume[:1000])  # print only first 1000 characters\n",
    "else:\n",
    "    print(\"No matching candidates found.\")\n"
   ]
  },
  {
   "cell_type": "code",
   "execution_count": null,
   "id": "d91edbbc-2fc4-4a80-9081-8a6427114f19",
   "metadata": {},
   "outputs": [],
   "source": []
  }
 ],
 "metadata": {
  "kernelspec": {
   "display_name": "Python 3 (ipykernel)",
   "language": "python",
   "name": "python3"
  },
  "language_info": {
   "codemirror_mode": {
    "name": "ipython",
    "version": 3
   },
   "file_extension": ".py",
   "mimetype": "text/x-python",
   "name": "python",
   "nbconvert_exporter": "python",
   "pygments_lexer": "ipython3",
   "version": "3.9.20"
  }
 },
 "nbformat": 4,
 "nbformat_minor": 5
}
